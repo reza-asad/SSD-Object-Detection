{
 "cells": [
  {
   "cell_type": "code",
   "execution_count": null,
   "metadata": {},
   "outputs": [],
   "source": [
    "import numpy as np\n",
    "import torch.nn\n",
    "import json\n",
    "import os\n",
    "\n",
    "import matplotlib.pyplot as plt\n",
    "import matplotlib.patches as patches\n",
    "\n",
    "\n",
    "from PIL import Image\n",
    "\n",
    "# Set default figure size\n",
    "%matplotlib inline\n",
    "plt.rcParams['figure.figsize'] = (30.0, 40.0)\n",
    "\n",
    "%load_ext autoreload\n",
    "%autoreload 2"
   ]
  },
  {
   "cell_type": "code",
   "execution_count": 3,
   "metadata": {},
   "outputs": [],
   "source": [
    "# Set image and label directory\n",
    "imgs_dir = \"../cityscapes_dataset/cityscapes_samples\"\n",
    "labels_dir = \"../cityscapes_dataset/cityscapes_samples_labels\"\n",
    "\n",
    "# Set accepted labels for this project\n",
    "label_dict = {\n",
    "    \"person\": 1,\n",
    "    \"persongroup\": 2,\n",
    "    \"rider\": 3,\n",
    "    \"bicycle\": 4,\n",
    "    \"bicyclegroup\": 5,\n",
    "    \"car\": 6,\n",
    "    \"cargroup\": 7,\n",
    "    \"bus\": 8,\n",
    "    \"truck\": 9,\n",
    "    \"traffic sign\": 10,\n",
    "    \"traffic light\": 11\n",
    "}"
   ]
  },
  {
   "cell_type": "code",
   "execution_count": 3,
   "metadata": {},
   "outputs": [
    {
     "name": "stdout",
     "output_type": "stream",
     "text": [
      "1000 images processed\n"
     ]
    },
    {
     "name": "stdout",
     "output_type": "stream",
     "text": [
      "2000 images processed\n"
     ]
    },
    {
     "name": "stdout",
     "output_type": "stream",
     "text": [
      "3000 images processed\n"
     ]
    },
    {
     "name": "stdout",
     "output_type": "stream",
     "text": [
      "4000 images processed\n"
     ]
    },
    {
     "name": "stdout",
     "output_type": "stream",
     "text": [
      "5000 images processed\n"
     ]
    },
    {
     "name": "stdout",
     "output_type": "stream",
     "text": [
      "6000 images processed\n"
     ]
    },
    {
     "name": "stdout",
     "output_type": "stream",
     "text": [
      "7000 images processed\n"
     ]
    },
    {
     "name": "stdout",
     "output_type": "stream",
     "text": [
      "8000 images processed\n"
     ]
    },
    {
     "name": "stdout",
     "output_type": "stream",
     "text": [
      "9000 images processed\n"
     ]
    },
    {
     "name": "stdout",
     "output_type": "stream",
     "text": [
      "10000 images processed\n"
     ]
    },
    {
     "name": "stdout",
     "output_type": "stream",
     "text": [
      "11000 images processed\n"
     ]
    },
    {
     "name": "stdout",
     "output_type": "stream",
     "text": [
      "12000 images processed\n"
     ]
    },
    {
     "name": "stdout",
     "output_type": "stream",
     "text": [
      "13000 images processed\n"
     ]
    },
    {
     "name": "stdout",
     "output_type": "stream",
     "text": [
      "14000 images processed\n"
     ]
    },
    {
     "name": "stdout",
     "output_type": "stream",
     "text": [
      "15000 images processed\n"
     ]
    },
    {
     "name": "stdout",
     "output_type": "stream",
     "text": [
      "16000 images processed\n"
     ]
    },
    {
     "name": "stdout",
     "output_type": "stream",
     "text": [
      "17000 images processed\n"
     ]
    },
    {
     "name": "stdout",
     "output_type": "stream",
     "text": [
      "18000 images processed\n"
     ]
    },
    {
     "name": "stdout",
     "output_type": "stream",
     "text": [
      "19000 images processed\n"
     ]
    }
   ],
   "source": [
    "from vehicle_detection.cityscape_datalist import *\n",
    "\n",
    "# Create a data list of images\n",
    "cs_data_list = CityScapeDatalist(imgs_dir, labels_dir, label_dict)\n",
    "cs_data_list.prepare_data_list()\n",
    "\n",
    "# Split data into train test and validation\n",
    "cs_data_list.split_data()"
   ]
  },
  {
   "cell_type": "code",
   "execution_count": null,
   "metadata": {
    "scrolled": false
   },
   "outputs": [],
   "source": [
    "train_list = np.load('train.npy')\n",
    "valid_list = np.load('valid.npy')"
   ]
  },
  {
   "cell_type": "code",
   "execution_count": null,
   "metadata": {
    "scrolled": false
   },
   "outputs": [],
   "source": [
    "# TODO: Plot sample images\n",
    "cs_data_list.data_list[0]\n"
   ]
  },
  {
   "cell_type": "code",
   "execution_count": 7,
   "metadata": {},
   "outputs": [],
   "source": [
    "from vehicle_detection.cityscape_dataset import *\n",
    "from vehicle_detection.solver import *\n",
    "\n",
    "# Create a dataset using the data list you prepared\n",
    "input_dim=(300, 300)\n",
    "train_dataset = CityScapeDataset(cs_data_list.train_list, input_dim=input_dim, mode=\"train\")\n",
    "valid_dataset = CityScapeDataset(cs_data_list.valid_list, input_dim=input_dim, mode=\"test\")\n",
    "\n",
    "# Create a solver to train the model\n",
    "solver = Solver(train_dataset, valid_dataset, batch_size=64)"
   ]
  },
  {
   "cell_type": "code",
   "execution_count": 7,
   "metadata": {
    "scrolled": false
   },
   "outputs": [
    {
     "name": "stdout",
     "output_type": "stream",
     "text": [
      "Image shape is of shape: torch.Size([64, 3, 300, 300])\n",
      "bbox_tensor is of shape torch.Size([64, 2982, 4])\n",
      "bbox_label_tensor is of shape: torch.Size([64, 2982])\n"
     ]
    }
   ],
   "source": [
    "import matplotlib.patches as patches\n",
    "import matplotlib.pyplot as plt\n",
    "from vehicle_detection.bbox_helper import generate_prior_bboxes, loc2bbox, center2corner\n",
    "\n",
    "# Draw bounding boxes on a sample from the data loader\n",
    "mean_img = np.asarray((127, 127, 127), dtype=np.float32).reshape(3, 1, 1)\n",
    "std_img = 128.0\n",
    "\n",
    "with torch.no_grad():\n",
    "    # Now I'm going to read a few data examples from the DataLoader and plot them\n",
    "    idx, (x, gt_locs, gt_labels) = next(enumerate(solver.train_loader))\n",
    "    \n",
    "    print(\"Image shape is of shape: {}\".format(x.shape))\n",
    "    print(\"bbox_tensor is of shape {}\".format(gt_locs.shape))\n",
    "    print(\"bbox_label_tensor is of shape: {}\".format(gt_labels.shape))\n",
    "\n",
    "    NUM_IMGS = 2\n",
    "    fig, ax = plt.subplots(NUM_IMGS)\n",
    "    img_sample = x[:NUM_IMGS].clone()\n",
    "    loc_sample = gt_locs[:NUM_IMGS, :, :].clone()\n",
    "    prior_bboxes = generate_prior_bboxes()\n",
    "    for i in range(1, NUM_IMGS + 1):\n",
    "        img = np.asarray(img_sample[i - 1])\n",
    "        img = (img * std_img) + mean_img\n",
    "        img = np.ascontiguousarray(img.transpose(1, 2, 0).astype('uint8'))\n",
    "        # Convert the locations to bbox\n",
    "        bbox = loc2bbox(loc_sample[i - 1], prior_bboxes)\n",
    "        # Convert bbox to corner format\n",
    "        bbox = center2corner(bbox)\n",
    "        bbox[:,[0,2]] *= input_dim[0]\n",
    "        bbox[:,[1,3]] *= input_dim[1]\n",
    "        # Draw bounding boxes on the image\n",
    "        for k, (x, y, xw, yh) in enumerate(bbox):\n",
    "            if gt_labels[i-1][k] in range(1,12):\n",
    "                rect = patches.Rectangle([x,y], xw-x, yh-y, linewidth=1, edgecolor='r',\n",
    "                                         facecolor='none')\n",
    "                ax[i-1].add_patch(rect)\n",
    "        ax[i-1].imshow(img)\n",
    "    plt.show()"
   ]
  },
  {
   "cell_type": "code",
   "execution_count": 4,
   "metadata": {},
   "outputs": [],
   "source": [
    "from vehicle_detection.ssd_net import *\n",
    "from vehicle_detection.bbox_loss import *\n",
    "\n",
    "# Instantiate the model\n",
    "num_classes = len(set(label_dict.values())) + 1\n",
    "\n",
    "ssd_net = SSD(num_classes).cuda()\n",
    "\n",
    "# Create an optimizer\n",
    "optimizer = torch.optim.Adam(ssd_net.parameters(), lr=1e-3)\n",
    "\n",
    "# Initialize loss function\n",
    "loss_function = MultiboxLoss()\n",
    "\n",
    "train_bbox_losses = []\n",
    "train_class_losses = []"
   ]
  },
  {
   "cell_type": "code",
   "execution_count": 5,
   "metadata": {},
   "outputs": [],
   "source": [
    "# Load the model if it exists\n",
    "net_state = torch.load('vehicle_detection/ssd_net')\n",
    "ssd_net.load_state_dict(net_state)"
   ]
  },
  {
   "cell_type": "code",
   "execution_count": 7,
   "metadata": {
    "scrolled": false
   },
   "outputs": [
    {
     "name": "stdout",
     "output_type": "stream",
     "text": [
      "This is epoch 0\n"
     ]
    },
    {
     "name": "stdout",
     "output_type": "stream",
     "text": [
      "Epoch 0, lr is 0.0010000, iteration 400 : total loss is 6.7228909, conf loss is 2.9401553, locs loss is 3.7827353\n"
     ]
    },
    {
     "name": "stdout",
     "output_type": "stream",
     "text": [
      "Validation: Accuracy = 3.794765937592784, total loss = 11.254822969436646, conf loss = 8.006637573242188, locs loss = 3.248185396194458\n"
     ]
    },
    {
     "name": "stdout",
     "output_type": "stream",
     "text": [
      "--------\nThis is epoch 1\n"
     ]
    }
   ],
   "source": [
    "# Training the model\n",
    "lr = 1e-3\n",
    "for num_epochs in [5, 20, 20, 15, 5]:\n",
    "# for num_epochs in [1]:\n",
    "    optimizer.param_groups[0]['lr'] = lr\n",
    "    tclass_loss, tbbox_loss, vclass_loss, vbbox_loss = solver.train(ssd_net, \n",
    "                                                                    optimizer, \n",
    "                                                                    loss_function,\n",
    "                                                                    num_epochs=num_epochs,\n",
    "                                                                    print_every=200)\n",
    "    \n",
    "    train_class_losses += tclass_loss\n",
    "    train_bbox_losses += tbbox_loss\n",
    "    lr *= 1e-1"
   ]
  },
  {
   "cell_type": "code",
   "execution_count": 17,
   "metadata": {
    "scrolled": false
   },
   "outputs": [],
   "source": [
    "# Save the model\n",
    "net_state = ssd_net.state_dict()\n",
    "torch.save(net_state, 'vehicle_detection/ssd_net')"
   ]
  },
  {
   "cell_type": "code",
   "execution_count": 10,
   "metadata": {},
   "outputs": [],
   "source": [
    "# Generate prior boxes\n",
    "prior_bboxes = generate_prior_bboxes()\n",
    "train_loader = solver.train_loader\n",
    "valid_loader = solver.valid_loader"
   ]
  },
  {
   "cell_type": "code",
   "execution_count": 13,
   "metadata": {},
   "outputs": [
    {
     "data": {
      "image/png": "[encoded data removed]",
      "text/plain": [
       "<Figure size 432x288 with 2 Axes>"
      ]
     },
     "metadata": {},
     "output_type": "display_data"
    }
   ],
   "source": [
    "# Plotting sample bounding boxes\n",
    "NUM_IMGS = 2\n",
    "fig, ax = plt.subplots(NUM_IMGS)\n",
    "mean_img = np.asarray((127, 127, 127), dtype=np.float32).reshape(3, 1, 1)\n",
    "std_img = 128.0\n",
    "\n",
    "with torch.no_grad():\n",
    "    # Now I'm going to read a few data examples from the DataLoader and plot them\n",
    "    ssd_net.eval()\n",
    "    idx, (x, gt_locs, gt_labels) = next(enumerate(valid_loader))\n",
    "    \n",
    "    with torch.no_grad():\n",
    "        # Move to the right device\n",
    "        x = Variable(x.cuda())\n",
    "        gt_locs = Variable(gt_locs.cuda())\n",
    "        gt_labels = Variable(gt_labels.cuda())\n",
    "\n",
    "        # Predict the classes and bbox coordinates for the input.\n",
    "        confidences, locs = ssd_net.forward(x)\n",
    "\n",
    "    img_sample = x[:NUM_IMGS].clone().cpu()\n",
    "    loc_sample = locs[:NUM_IMGS, :, :].clone().cpu()\n",
    "    conf_sample = confidences[:NUM_IMGS, :, :].clone().cpu()\n",
    "    for i in range(0, NUM_IMGS):\n",
    "        img = np.asarray(img_sample[i])\n",
    "        img = (img * std_img) + mean_img\n",
    "        img = np.ascontiguousarray(img.transpose(1, 2, 0).astype('uint8'))\n",
    "        h, w, c = img.shape\n",
    "        # Convert the locations to bbox\n",
    "        bbox = loc2bbox(loc_sample[i], prior_bboxes)\n",
    "        # Convert bbox to corner format\n",
    "        bbox = center2corner(bbox)\n",
    "        bbox[:, [0, 2]] *= w\n",
    "        bbox[:, [1, 3]] *= h\n",
    "        # Apply nms on the bounding boxes\n",
    "        sel_boxes = nms_bbox(bbox, conf_sample[i])\n",
    "        # Draw bounding boxes on the image\n",
    "        for (bbox, label) in sel_boxes:\n",
    "            (x, y, xw, yh) = bbox\n",
    "            rect = patches.Rectangle([x, y], xw - x, yh - y, linewidth=1, edgecolor='r',\n",
    "                                     facecolor='none')\n",
    "            ax[i].add_patch(rect)\n",
    "        ax[i].imshow(img)\n",
    "    plt.show()\n"
   ]
  },
  {
   "cell_type": "code",
   "execution_count": 13,
   "metadata": {},
   "outputs": [],
   "source": []
  },
  {
   "cell_type": "code",
   "execution_count": null,
   "metadata": {},
   "outputs": [],
   "source": []
  },
  {
   "cell_type": "code",
   "execution_count": null,
   "metadata": {},
   "outputs": [],
   "source": []
  },
  {
   "cell_type": "code",
   "execution_count": null,
   "metadata": {},
   "outputs": [],
   "source": []
  },
  {
   "cell_type": "code",
   "execution_count": null,
   "metadata": {},
   "outputs": [],
   "source": []
  },
  {
   "cell_type": "code",
   "execution_count": 6,
   "metadata": {},
   "outputs": [
    {
     "name": "stdout",
     "output_type": "stream",
     "text": [
      "-------------------------------------------------------------------------------------------------\n                Type                  Tag      Index              Output Shape         Param #\n=================================================================================================\n              Conv2d                               0        [-1, 32, 150, 150]             864\n         BatchNorm2d                               1        [-1, 32, 150, 150]              64\n                ReLU                               2        [-1, 32, 150, 150]               0\n              Conv2d                               3        [-1, 32, 150, 150]             288\n         BatchNorm2d                               4        [-1, 32, 150, 150]              64\n                ReLU                               5        [-1, 32, 150, 150]               0\n              Conv2d                               6        [-1, 64, 150, 150]            2048\n         BatchNorm2d                               7        [-1, 64, 150, 150]             128\n                ReLU                               8        [-1, 64, 150, 150]               0\n              Conv2d                               9          [-1, 64, 75, 75]             576\n         BatchNorm2d                              10          [-1, 64, 75, 75]             128\n                ReLU                              11          [-1, 64, 75, 75]               0\n              Conv2d                              12         [-1, 128, 75, 75]            8192\n         BatchNorm2d                              13         [-1, 128, 75, 75]             256\n                ReLU                              14         [-1, 128, 75, 75]               0\n              Conv2d                              15         [-1, 128, 75, 75]            1152\n         BatchNorm2d                              16         [-1, 128, 75, 75]             256\n                ReLU                              17         [-1, 128, 75, 75]               0\n              Conv2d                              18         [-1, 128, 75, 75]           16384\n         BatchNorm2d                              19         [-1, 128, 75, 75]             256\n                ReLU                              20         [-1, 128, 75, 75]               0\n              Conv2d                              21         [-1, 128, 38, 38]            1152\n         BatchNorm2d                              22         [-1, 128, 38, 38]             256\n                ReLU                              23         [-1, 128, 38, 38]               0\n              Conv2d                              24         [-1, 256, 38, 38]           32768\n         BatchNorm2d                              25         [-1, 256, 38, 38]             512\n                ReLU                              26         [-1, 256, 38, 38]               0\n              Conv2d                              27         [-1, 256, 38, 38]            2304\n         BatchNorm2d                              28         [-1, 256, 38, 38]             512\n                ReLU                              29         [-1, 256, 38, 38]               0\n              Conv2d                              30         [-1, 256, 38, 38]           65536\n         BatchNorm2d                              31         [-1, 256, 38, 38]             512\n                ReLU                              32         [-1, 256, 38, 38]               0\n              Conv2d                              33         [-1, 256, 19, 19]            2304\n         BatchNorm2d                              34         [-1, 256, 19, 19]             512\n                ReLU                              35         [-1, 256, 19, 19]               0\n              Conv2d                              36         [-1, 512, 19, 19]          131072\n         BatchNorm2d                              37         [-1, 512, 19, 19]            1024\n                ReLU                              38         [-1, 512, 19, 19]               0\n              Conv2d                              39         [-1, 512, 19, 19]            4608\n         BatchNorm2d                              40         [-1, 512, 19, 19]            1024\n                ReLU                              41         [-1, 512, 19, 19]               0\n              Conv2d                              42         [-1, 512, 19, 19]          262144\n         BatchNorm2d                              43         [-1, 512, 19, 19]            1024\n                ReLU                              44         [-1, 512, 19, 19]               0\n              Conv2d                              45         [-1, 512, 19, 19]            4608\n         BatchNorm2d                              46         [-1, 512, 19, 19]            1024\n                ReLU                              47         [-1, 512, 19, 19]               0\n              Conv2d                              48         [-1, 512, 19, 19]          262144\n         BatchNorm2d                              49         [-1, 512, 19, 19]            1024\n                ReLU                              50         [-1, 512, 19, 19]               0\n              Conv2d                              51         [-1, 512, 19, 19]            4608\n         BatchNorm2d                              52         [-1, 512, 19, 19]            1024\n                ReLU                              53         [-1, 512, 19, 19]               0\n              Conv2d                              54         [-1, 512, 19, 19]          262144\n         BatchNorm2d                              55         [-1, 512, 19, 19]            1024\n                ReLU                              56         [-1, 512, 19, 19]               0\n              Conv2d                              57         [-1, 512, 19, 19]            4608\n         BatchNorm2d                              58         [-1, 512, 19, 19]            1024\n                ReLU                              59         [-1, 512, 19, 19]               0\n              Conv2d                              60         [-1, 512, 19, 19]          262144\n         BatchNorm2d                              61         [-1, 512, 19, 19]            1024\n                ReLU                              62         [-1, 512, 19, 19]               0\n              Conv2d                              63         [-1, 512, 19, 19]            4608\n         BatchNorm2d                              64         [-1, 512, 19, 19]            1024\n                ReLU                              65         [-1, 512, 19, 19]               0\n              Conv2d                              66         [-1, 512, 19, 19]          262144\n         BatchNorm2d                              67         [-1, 512, 19, 19]            1024\n                ReLU                              68         [-1, 512, 19, 19]               0\n              Conv2d                              69         [-1, 512, 10, 10]            4608\n         BatchNorm2d                              70         [-1, 512, 10, 10]            1024\n                ReLU                              71         [-1, 512, 10, 10]               0\n              Conv2d                              72        [-1, 1024, 10, 10]          524288\n         BatchNorm2d                              73        [-1, 1024, 10, 10]            2048\n                ReLU                              74        [-1, 1024, 10, 10]               0\n              Conv2d                              75        [-1, 1024, 10, 10]            9216\n         BatchNorm2d                              76        [-1, 1024, 10, 10]            2048\n                ReLU                              77        [-1, 1024, 10, 10]               0\n              Conv2d                              78        [-1, 1024, 10, 10]         1048576\n         BatchNorm2d                              79        [-1, 1024, 10, 10]            2048\n                ReLU                              80        [-1, 1024, 10, 10]               0\n=================================================================================================\nTotal params: tensor(3206976)\nTrainable params: tensor(3206976)\nNon-trainable params: tensor(0)\n-------------------------------------------------------------------------------------------------\n"
     ]
    }
   ],
   "source": [
    "from vehicle_detection.util.module_util import *\n",
    "summary_layers(ssd_net.base_net, input_size=(3, 300, 300))"
   ]
  },
  {
   "cell_type": "code",
   "execution_count": 49,
   "metadata": {},
   "outputs": [
    {
     "name": "stdout",
     "output_type": "stream",
     "text": [
      "tensor([[[-0.2884, -1.3171],\n",
      "         [ 0.9776,  0.4853]],\n",
      "\n",
      "        [[-1.3066,  1.0038],\n",
      "         [ 1.4060, -0.9773]]])\n",
      "tensor([[[ 1.8054, -0.0292],\n",
      "         [-0.3860, -1.1643]]])\n",
      "tensor([[[-0.2884, -1.3171],\n",
      "         [-0.3860, -1.1643]],\n",
      "\n",
      "        [[-1.3066, -0.0292],\n",
      "         [-0.3860, -1.1643]]])\n"
     ]
    }
   ],
   "source": [
    "a = torch.randn(2, 2, 2)\n",
    "b = torch.randn(1, 2, 2)\n",
    "print(a)\n",
    "print(b)\n",
    "print(torch.min(a, b))"
   ]
  },
  {
   "cell_type": "code",
   "execution_count": 51,
   "metadata": {},
   "outputs": [
    {
     "name": "stdout",
     "output_type": "stream",
     "text": [
      "tensor([[[-0.2884, -1.3171],\n",
      "         [-1.3066,  1.0038]],\n",
      "\n",
      "        [[ 0.9776,  0.4853],\n",
      "         [ 1.4060, -0.9773]]])\n",
      "tensor([[[ 1.8054, -0.0292]],\n",
      "\n",
      "        [[-0.3860, -1.1643]]])\n",
      "tensor([[[-0.2884, -1.3171],\n",
      "         [-1.3066, -0.0292]],\n",
      "\n",
      "        [[-0.3860, -1.1643],\n",
      "         [-0.3860, -1.1643]]])\n"
     ]
    }
   ],
   "source": [
    "a = a.permute(1, 0 ,2).contiguous()\n",
    "b = b.permute(1, 0, 2).contiguous()\n",
    "print(a)\n",
    "print(b)\n",
    "print(torch.min(a, b))"
   ]
  },
  {
   "cell_type": "code",
   "execution_count": 37,
   "metadata": {},
   "outputs": [],
   "source": []
  },
  {
   "cell_type": "code",
   "execution_count": 12,
   "metadata": {},
   "outputs": [],
   "source": []
  },
  {
   "cell_type": "code",
   "execution_count": 13,
   "metadata": {},
   "outputs": [],
   "source": []
  },
  {
   "cell_type": "code",
   "execution_count": null,
   "metadata": {},
   "outputs": [],
   "source": []
  },
  {
   "cell_type": "code",
   "execution_count": null,
   "metadata": {},
   "outputs": [],
   "source": []
  }
 ],
 "metadata": {
  "kernelspec": {
   "display_name": "Python 3",
   "language": "python",
   "name": "python3"
  },
  "language_info": {
   "codemirror_mode": {
    "name": "ipython",
    "version": 3
   },
   "file_extension": ".py",
   "mimetype": "text/x-python",
   "name": "python",
   "nbconvert_exporter": "python",
   "pygments_lexer": "ipython3",
   "version": "3.6.5"
  }
 },
 "nbformat": 4,
 "nbformat_minor": 1
}
